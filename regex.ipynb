{
  "cells": [
    {
      "cell_type": "markdown",
      "metadata": {
        "id": "view-in-github",
        "colab_type": "text"
      },
      "source": [
        "<a href=\"https://colab.research.google.com/github/1234ajay768/Ajay/blob/main/regex.ipynb\" target=\"_parent\"><img src=\"https://colab.research.google.com/assets/colab-badge.svg\" alt=\"Open In Colab\"/></a>"
      ]
    },
    {
      "cell_type": "markdown",
      "metadata": {
        "id": "WTJTrXrudS1V"
      },
      "source": [
        "import libraries"
      ]
    },
    {
      "cell_type": "code",
      "execution_count": null,
      "metadata": {
        "id": "xXVsn9HAcVcL"
      },
      "outputs": [],
      "source": [
        "import re"
      ]
    },
    {
      "cell_type": "markdown",
      "metadata": {
        "id": "paBlA_xxciAM"
      },
      "source": [
        "RAW STRING"
      ]
    },
    {
      "cell_type": "code",
      "execution_count": null,
      "metadata": {
        "colab": {
          "base_uri": "https://localhost:8080/"
        },
        "id": "SPlC5NDGcmvD",
        "outputId": "1031f502-61c0-4131-c1c9-dd2090826678"
      },
      "outputs": [
        {
          "name": "stdout",
          "output_type": "stream",
          "text": [
            "Hello World\n"
          ]
        }
      ],
      "source": [
        "print(r\"Hello World\")"
      ]
    },
    {
      "cell_type": "markdown",
      "metadata": {
        "id": "8ijBezrCdKwd"
      },
      "source": [
        "search operation"
      ]
    },
    {
      "cell_type": "code",
      "execution_count": null,
      "metadata": {
        "colab": {
          "base_uri": "https://localhost:8080/"
        },
        "id": "EnHwll5QdRGJ",
        "outputId": "d7afd710-4b93-44fe-b22d-78c244c1d4b4"
      },
      "outputs": [
        {
          "output_type": "stream",
          "name": "stdout",
          "text": [
            "<re.Match object; span=(0, 1), match='a'>\n",
            "<re.Match object; span=(1, 2), match='b'>\n",
            "<re.Match object; span=(2, 3), match='c'>\n",
            "<re.Match object; span=(3, 4), match='d'>\n",
            "<re.Match object; span=(4, 5), match='e'>\n",
            "<re.Match object; span=(5, 6), match='f'>\n",
            "<re.Match object; span=(6, 7), match='g'>\n",
            "<re.Match object; span=(7, 8), match='h'>\n",
            "<re.Match object; span=(8, 9), match='i'>\n",
            "<re.Match object; span=(9, 10), match='j'>\n",
            "<re.Match object; span=(10, 11), match='k'>\n",
            "<re.Match object; span=(11, 12), match='l'>\n",
            "<re.Match object; span=(12, 13), match='m'>\n",
            "<re.Match object; span=(13, 14), match='n'>\n",
            "<re.Match object; span=(14, 15), match='o'>\n",
            "<re.Match object; span=(15, 16), match='p'>\n",
            "<re.Match object; span=(16, 17), match='q'>\n",
            "<re.Match object; span=(17, 18), match='r'>\n",
            "<re.Match object; span=(18, 19), match='s'>\n",
            "<re.Match object; span=(19, 20), match='t'>\n",
            "<re.Match object; span=(20, 21), match='u'>\n",
            "<re.Match object; span=(21, 22), match='v'>\n",
            "<re.Match object; span=(22, 23), match='w'>\n",
            "<re.Match object; span=(23, 24), match='x'>\n",
            "<re.Match object; span=(24, 25), match='y'>\n",
            "<re.Match object; span=(25, 26), match='z'>\n"
          ]
        }
      ],
      "source": [
        "import re\n",
        "string=\"abcdefghijklmnopqrstuvwxyz\"\n",
        "pattern = re.compile(r\"[a-z]\")\n",
        "matches = re.finditer(pattern,string)\n",
        "for match in matches:\n",
        "  print(match)"
      ]
    },
    {
      "cell_type": "markdown",
      "source": [
        "Search operation"
      ],
      "metadata": {
        "id": "5lVgNutSOwYc"
      }
    },
    {
      "cell_type": "code",
      "source": [
        "test_string=  \"123abc456789abc123ABC\"\n",
        "#re.match\n",
        "pattern=re.compile(r\"abc\") #compiling\n",
        "match = re.match(pattern,test_string)\n",
        "print(match)"
      ],
      "metadata": {
        "colab": {
          "base_uri": "https://localhost:8080/"
        },
        "id": "OSSGEDQwPEON",
        "outputId": "1b8a484a-07b9-4b41-c142-afb3460359f9"
      },
      "execution_count": null,
      "outputs": [
        {
          "output_type": "stream",
          "name": "stdout",
          "text": [
            "None\n"
          ]
        }
      ]
    },
    {
      "cell_type": "code",
      "source": [
        "pattern = re.compile(r\"123\")\n",
        "match =   re.match(pattern,test_string)\n",
        "print(match)\n"
      ],
      "metadata": {
        "colab": {
          "base_uri": "https://localhost:8080/"
        },
        "id": "zQTU9rYhPrZg",
        "outputId": "d83c0dae-894c-4225-843c-775e039a6790"
      },
      "execution_count": null,
      "outputs": [
        {
          "output_type": "stream",
          "name": "stdout",
          "text": [
            "<re.Match object; span=(0, 3), match='123'>\n"
          ]
        }
      ]
    },
    {
      "cell_type": "code",
      "source": [
        "match.span()"
      ],
      "metadata": {
        "colab": {
          "base_uri": "https://localhost:8080/"
        },
        "id": "95Q8XnIaQJnU",
        "outputId": "58feac7c-6f20-4e54-b417-3c9ead41a105"
      },
      "execution_count": null,
      "outputs": [
        {
          "output_type": "execute_result",
          "data": {
            "text/plain": [
              "(0, 3)"
            ]
          },
          "metadata": {},
          "execution_count": 5
        }
      ]
    },
    {
      "cell_type": "code",
      "source": [
        "start_index,end_index = match.span()\n",
        "\n",
        "test_string[start_index:end_index]"
      ],
      "metadata": {
        "colab": {
          "base_uri": "https://localhost:8080/",
          "height": 36
        },
        "id": "N3c4ftQ0QUca",
        "outputId": "872c4731-5ddb-4a3d-ce7b-641967c3c724"
      },
      "execution_count": null,
      "outputs": [
        {
          "output_type": "execute_result",
          "data": {
            "text/plain": [
              "'123'"
            ],
            "application/vnd.google.colaboratory.intrinsic+json": {
              "type": "string"
            }
          },
          "metadata": {},
          "execution_count": 6
        }
      ]
    },
    {
      "cell_type": "code",
      "source": [
        "match.start()"
      ],
      "metadata": {
        "colab": {
          "base_uri": "https://localhost:8080/"
        },
        "id": "vWP7nw9ZQptH",
        "outputId": "fb480c93-457c-46d4-9dfd-ecd1614ee41d"
      },
      "execution_count": null,
      "outputs": [
        {
          "output_type": "execute_result",
          "data": {
            "text/plain": [
              "0"
            ]
          },
          "metadata": {},
          "execution_count": 7
        }
      ]
    },
    {
      "cell_type": "code",
      "source": [
        "match.end()"
      ],
      "metadata": {
        "colab": {
          "base_uri": "https://localhost:8080/"
        },
        "id": "lzU8DZkmQppb",
        "outputId": "0a0c533f-5858-4299-c4be-d47725c95201"
      },
      "execution_count": null,
      "outputs": [
        {
          "output_type": "execute_result",
          "data": {
            "text/plain": [
              "3"
            ]
          },
          "metadata": {},
          "execution_count": 8
        }
      ]
    },
    {
      "cell_type": "code",
      "source": [
        "match.group()"
      ],
      "metadata": {
        "colab": {
          "base_uri": "https://localhost:8080/",
          "height": 36
        },
        "id": "3Z2s08q6Q4rR",
        "outputId": "aec1a735-1aee-430d-9571-6e6bb8e7a97a"
      },
      "execution_count": null,
      "outputs": [
        {
          "output_type": "execute_result",
          "data": {
            "text/plain": [
              "'123'"
            ],
            "application/vnd.google.colaboratory.intrinsic+json": {
              "type": "string"
            }
          },
          "metadata": {},
          "execution_count": 9
        }
      ]
    },
    {
      "cell_type": "code",
      "source": [
        "pattern = re.compile(r\"abc\")\n",
        "match = re.search(pattern,test_string)\n",
        "match\n"
      ],
      "metadata": {
        "colab": {
          "base_uri": "https://localhost:8080/"
        },
        "id": "obkb6biPQ_Gf",
        "outputId": "d60e4ed2-e2ac-48b5-8104-784a884bfdca"
      },
      "execution_count": null,
      "outputs": [
        {
          "output_type": "execute_result",
          "data": {
            "text/plain": [
              "<re.Match object; span=(3, 6), match='abc'>"
            ]
          },
          "metadata": {},
          "execution_count": 10
        }
      ]
    },
    {
      "cell_type": "code",
      "source": [
        "pattern = re.compile(r\"abc\")\n",
        "matches = re.findall(pattern,test_string)\n",
        "matches"
      ],
      "metadata": {
        "colab": {
          "base_uri": "https://localhost:8080/"
        },
        "id": "30VHxhvVRkBT",
        "outputId": "319eb80e-ffe1-449d-cd2d-3d223ad171bf"
      },
      "execution_count": null,
      "outputs": [
        {
          "output_type": "execute_result",
          "data": {
            "text/plain": [
              "['abc', 'abc']"
            ]
          },
          "metadata": {},
          "execution_count": 11
        }
      ]
    },
    {
      "cell_type": "code",
      "source": [
        "#re.finditer()"
      ],
      "metadata": {
        "id": "o7EVPCJ2SF9f"
      },
      "execution_count": null,
      "outputs": []
    },
    {
      "cell_type": "code",
      "source": [
        "pattern = re.compile(r\"abc\")\n",
        "matches = re.finditer(pattern,test_string)\n",
        "for match in matches:\n",
        "  print(match)"
      ],
      "metadata": {
        "colab": {
          "base_uri": "https://localhost:8080/"
        },
        "id": "48ZTbBBISOLV",
        "outputId": "86273f1e-5bf9-46bd-bbff-ab5b37672401"
      },
      "execution_count": null,
      "outputs": [
        {
          "output_type": "stream",
          "name": "stdout",
          "text": [
            "<re.Match object; span=(3, 6), match='abc'>\n",
            "<re.Match object; span=(12, 15), match='abc'>\n"
          ]
        }
      ]
    },
    {
      "cell_type": "markdown",
      "source": [
        "Meta Characters"
      ],
      "metadata": {
        "id": "HXoTcCbfSqp4"
      }
    },
    {
      "cell_type": "code",
      "source": [
        "test_string_1=\"123abc.456789abc123defGHI.ABC \\n xyz345WXYZ\""
      ],
      "metadata": {
        "id": "_koKyWqUSpgL"
      },
      "execution_count": null,
      "outputs": []
    },
    {
      "cell_type": "code",
      "source": [
        "test_string_2=\"The cat sat on the mat with a bat and a hat.\""
      ],
      "metadata": {
        "id": "u2udLV_ETBPl"
      },
      "execution_count": null,
      "outputs": []
    },
    {
      "cell_type": "code",
      "source": [
        "test_string_3 = \"The cat sat on the mat with a bat and a hat.$at, 8at, at.\""
      ],
      "metadata": {
        "id": "SVEuO-eyTP8t"
      },
      "execution_count": null,
      "outputs": []
    },
    {
      "cell_type": "code",
      "source": [
        "text=\"\"\"Hello World!\n",
        "This is a test.\n",
        "Hello again!\n",
        "Python is fun.\n",
        "Hello Python\"\"\""
      ],
      "metadata": {
        "id": "U331N74wTl4F"
      },
      "execution_count": null,
      "outputs": []
    },
    {
      "cell_type": "markdown",
      "source": [
        "Dot(.) Meta character"
      ],
      "metadata": {
        "id": "ik5RM7iST-Tc"
      }
    },
    {
      "cell_type": "code",
      "source": [
        "pattern = re.compile(r\".\") #ignores \\n character\n",
        "\n",
        "matches = re.finditer(pattern,test_string_1)\n",
        "\n",
        "for match in matches:\n",
        "  print(match)"
      ],
      "metadata": {
        "colab": {
          "base_uri": "https://localhost:8080/"
        },
        "id": "DTzKozu0T2PR",
        "outputId": "3a36efda-667a-484d-c847-444a0186a8aa"
      },
      "execution_count": null,
      "outputs": [
        {
          "output_type": "stream",
          "name": "stdout",
          "text": [
            "<re.Match object; span=(0, 1), match='1'>\n",
            "<re.Match object; span=(1, 2), match='2'>\n",
            "<re.Match object; span=(2, 3), match='3'>\n",
            "<re.Match object; span=(3, 4), match='a'>\n",
            "<re.Match object; span=(4, 5), match='b'>\n",
            "<re.Match object; span=(5, 6), match='c'>\n",
            "<re.Match object; span=(6, 7), match='.'>\n",
            "<re.Match object; span=(7, 8), match='4'>\n",
            "<re.Match object; span=(8, 9), match='5'>\n",
            "<re.Match object; span=(9, 10), match='6'>\n",
            "<re.Match object; span=(10, 11), match='7'>\n",
            "<re.Match object; span=(11, 12), match='8'>\n",
            "<re.Match object; span=(12, 13), match='9'>\n",
            "<re.Match object; span=(13, 14), match='a'>\n",
            "<re.Match object; span=(14, 15), match='b'>\n",
            "<re.Match object; span=(15, 16), match='c'>\n",
            "<re.Match object; span=(16, 17), match='1'>\n",
            "<re.Match object; span=(17, 18), match='2'>\n",
            "<re.Match object; span=(18, 19), match='3'>\n",
            "<re.Match object; span=(19, 20), match='d'>\n",
            "<re.Match object; span=(20, 21), match='e'>\n",
            "<re.Match object; span=(21, 22), match='f'>\n",
            "<re.Match object; span=(22, 23), match='G'>\n",
            "<re.Match object; span=(23, 24), match='H'>\n",
            "<re.Match object; span=(24, 25), match='I'>\n",
            "<re.Match object; span=(25, 26), match='.'>\n",
            "<re.Match object; span=(26, 27), match='A'>\n",
            "<re.Match object; span=(27, 28), match='B'>\n",
            "<re.Match object; span=(28, 29), match='C'>\n",
            "<re.Match object; span=(29, 30), match=' '>\n",
            "<re.Match object; span=(31, 32), match=' '>\n",
            "<re.Match object; span=(32, 33), match='x'>\n",
            "<re.Match object; span=(33, 34), match='y'>\n",
            "<re.Match object; span=(34, 35), match='z'>\n",
            "<re.Match object; span=(35, 36), match='3'>\n",
            "<re.Match object; span=(36, 37), match='4'>\n",
            "<re.Match object; span=(37, 38), match='5'>\n",
            "<re.Match object; span=(38, 39), match='W'>\n",
            "<re.Match object; span=(39, 40), match='X'>\n",
            "<re.Match object; span=(40, 41), match='Y'>\n",
            "<re.Match object; span=(41, 42), match='Z'>\n"
          ]
        }
      ]
    },
    {
      "cell_type": "code",
      "source": [
        "print(test_string_2, end=\"\\n\\n\")\n",
        "\n",
        "pattern = re.compile(r\".\")\n",
        "\n",
        "matches = re.finditer(pattern,test_string_2)\n",
        "for match in matches:\n",
        "  print(match)"
      ],
      "metadata": {
        "colab": {
          "base_uri": "https://localhost:8080/"
        },
        "id": "ars8OdtzT7HC",
        "outputId": "15b07ed2-12c4-4cca-b7aa-b47803d4bd65"
      },
      "execution_count": null,
      "outputs": [
        {
          "output_type": "stream",
          "name": "stdout",
          "text": [
            "The cat sat on the mat with a bat and a hat.\n",
            "\n",
            "<re.Match object; span=(0, 1), match='T'>\n",
            "<re.Match object; span=(1, 2), match='h'>\n",
            "<re.Match object; span=(2, 3), match='e'>\n",
            "<re.Match object; span=(3, 4), match=' '>\n",
            "<re.Match object; span=(4, 5), match='c'>\n",
            "<re.Match object; span=(5, 6), match='a'>\n",
            "<re.Match object; span=(6, 7), match='t'>\n",
            "<re.Match object; span=(7, 8), match=' '>\n",
            "<re.Match object; span=(8, 9), match='s'>\n",
            "<re.Match object; span=(9, 10), match='a'>\n",
            "<re.Match object; span=(10, 11), match='t'>\n",
            "<re.Match object; span=(11, 12), match=' '>\n",
            "<re.Match object; span=(12, 13), match='o'>\n",
            "<re.Match object; span=(13, 14), match='n'>\n",
            "<re.Match object; span=(14, 15), match=' '>\n",
            "<re.Match object; span=(15, 16), match='t'>\n",
            "<re.Match object; span=(16, 17), match='h'>\n",
            "<re.Match object; span=(17, 18), match='e'>\n",
            "<re.Match object; span=(18, 19), match=' '>\n",
            "<re.Match object; span=(19, 20), match='m'>\n",
            "<re.Match object; span=(20, 21), match='a'>\n",
            "<re.Match object; span=(21, 22), match='t'>\n",
            "<re.Match object; span=(22, 23), match=' '>\n",
            "<re.Match object; span=(23, 24), match='w'>\n",
            "<re.Match object; span=(24, 25), match='i'>\n",
            "<re.Match object; span=(25, 26), match='t'>\n",
            "<re.Match object; span=(26, 27), match='h'>\n",
            "<re.Match object; span=(27, 28), match=' '>\n",
            "<re.Match object; span=(28, 29), match='a'>\n",
            "<re.Match object; span=(29, 30), match=' '>\n",
            "<re.Match object; span=(30, 31), match='b'>\n",
            "<re.Match object; span=(31, 32), match='a'>\n",
            "<re.Match object; span=(32, 33), match='t'>\n",
            "<re.Match object; span=(33, 34), match=' '>\n",
            "<re.Match object; span=(34, 35), match='a'>\n",
            "<re.Match object; span=(35, 36), match='n'>\n",
            "<re.Match object; span=(36, 37), match='d'>\n",
            "<re.Match object; span=(37, 38), match=' '>\n",
            "<re.Match object; span=(38, 39), match='a'>\n",
            "<re.Match object; span=(39, 40), match=' '>\n",
            "<re.Match object; span=(40, 41), match='h'>\n",
            "<re.Match object; span=(41, 42), match='a'>\n",
            "<re.Match object; span=(42, 43), match='t'>\n",
            "<re.Match object; span=(43, 44), match='.'>\n"
          ]
        }
      ]
    },
    {
      "cell_type": "markdown",
      "source": [
        "Caratt(^) Meta Character"
      ],
      "metadata": {
        "id": "B6Fl9WX6VisT"
      }
    },
    {
      "cell_type": "code",
      "source": [
        "print(text,end=\"\\n\\n\")\n",
        "pattern= re.compile(r\"Hello\")\n",
        "\n",
        "matches = re.finditer(pattern,text)\n",
        "\n",
        "for match in matches:\n",
        "  print(match)"
      ],
      "metadata": {
        "colab": {
          "base_uri": "https://localhost:8080/"
        },
        "id": "g2bFqFEuVpFR",
        "outputId": "a17309a0-a5ae-462c-d340-e47b9937adeb"
      },
      "execution_count": null,
      "outputs": [
        {
          "output_type": "stream",
          "name": "stdout",
          "text": [
            "Hello World!\n",
            "This is a test.\n",
            "Hello again!\n",
            "Python is fun.\n",
            "Hello Python\n",
            "\n",
            "<re.Match object; span=(0, 5), match='Hello'>\n",
            "<re.Match object; span=(29, 34), match='Hello'>\n",
            "<re.Match object; span=(57, 62), match='Hello'>\n"
          ]
        }
      ]
    },
    {
      "cell_type": "code",
      "source": [
        "print(text, end=\"\\n\\n\")\n",
        "pattern = re.compile(r\"^Hello\")\n",
        "matches  = re.finditer(pattern,text)\n",
        "for match in matches:\n",
        "  print(match)"
      ],
      "metadata": {
        "colab": {
          "base_uri": "https://localhost:8080/"
        },
        "id": "G8PFg-J7WTl6",
        "outputId": "b449a506-1d3c-4484-8efe-b4aace0bdca5"
      },
      "execution_count": null,
      "outputs": [
        {
          "output_type": "stream",
          "name": "stdout",
          "text": [
            "Hello World!\n",
            "This is a test.\n",
            "Hello again!\n",
            "Python is fun.\n",
            "Hello Python\n",
            "\n",
            "<re.Match object; span=(0, 5), match='Hello'>\n"
          ]
        }
      ]
    },
    {
      "cell_type": "markdown",
      "source": [
        "Dollar($) Meta Character"
      ],
      "metadata": {
        "id": "9beDm775WxTf"
      }
    },
    {
      "cell_type": "code",
      "source": [
        "print(text, end=\"\\n\\n\")\n",
        "pattern= re.compile(r\"Python\")\n",
        "matches = re.finditer(pattern,text)\n",
        "for match in matches:\n",
        "  print(match)"
      ],
      "metadata": {
        "colab": {
          "base_uri": "https://localhost:8080/"
        },
        "id": "bU59T-PgW4ht",
        "outputId": "c09fe857-616d-4d75-85b0-b626e41de2d5"
      },
      "execution_count": null,
      "outputs": [
        {
          "output_type": "stream",
          "name": "stdout",
          "text": [
            "Hello World!\n",
            "This is a test.\n",
            "Hello again!\n",
            "Python is fun.\n",
            "Hello Python\n",
            "\n",
            "<re.Match object; span=(42, 48), match='Python'>\n",
            "<re.Match object; span=(63, 69), match='Python'>\n"
          ]
        }
      ]
    },
    {
      "cell_type": "code",
      "source": [
        "print(text,end=\"\\n\\n\")\n",
        "pattern = re.compile(r\"Python$\")\n",
        "matches = re.finditer(pattern,text)\n",
        "for match in matches:\n",
        "  print(match)"
      ],
      "metadata": {
        "colab": {
          "base_uri": "https://localhost:8080/"
        },
        "id": "R2wWtkTeXk4T",
        "outputId": "b9b28224-028c-4c35-e569-0553ec3d6e17"
      },
      "execution_count": null,
      "outputs": [
        {
          "output_type": "stream",
          "name": "stdout",
          "text": [
            "Hello World!\n",
            "This is a test.\n",
            "Hello again!\n",
            "Python is fun.\n",
            "Hello Python\n",
            "\n",
            "<re.Match object; span=(63, 69), match='Python'>\n"
          ]
        }
      ]
    },
    {
      "cell_type": "markdown",
      "source": [
        "Character Sets"
      ],
      "metadata": {
        "id": "Dc8_SJBCYScO"
      }
    },
    {
      "cell_type": "code",
      "source": [
        "test_string=\"123abc.4567XYZ$89aabc123  def%GHIxyz.ABC#i.\""
      ],
      "metadata": {
        "id": "lq6h9nHRYXUo"
      },
      "execution_count": null,
      "outputs": []
    },
    {
      "cell_type": "code",
      "source": [
        "print(test_string,end=\"\\n\\n\")\n",
        "\n",
        "pattern = re.compile(r\"[aeiou]\")\n",
        "matches = re.finditer(pattern,test_string)\n",
        "for match in matches:\n",
        "  print(match)"
      ],
      "metadata": {
        "colab": {
          "base_uri": "https://localhost:8080/"
        },
        "id": "F0NgBJzwYqMn",
        "outputId": "d760d746-c1e8-474e-a37c-f6be8302fc2b"
      },
      "execution_count": null,
      "outputs": [
        {
          "output_type": "stream",
          "name": "stdout",
          "text": [
            "123abc.4567XYZ$89aabc123  def%GHIxyz.ABC#i.\n",
            "\n",
            "<re.Match object; span=(3, 4), match='a'>\n",
            "<re.Match object; span=(17, 18), match='a'>\n",
            "<re.Match object; span=(18, 19), match='a'>\n",
            "<re.Match object; span=(27, 28), match='e'>\n",
            "<re.Match object; span=(41, 42), match='i'>\n"
          ]
        }
      ]
    },
    {
      "cell_type": "code",
      "source": [
        "print(test_string, end=\"\\n\\n\")\n",
        "\n",
        "pattern = re.compile(r\"[aeiouAEIOU]\")\n",
        "matches = re.finditer(pattern,test_string)\n",
        "for match in matches:\n",
        "  print(match)"
      ],
      "metadata": {
        "colab": {
          "base_uri": "https://localhost:8080/"
        },
        "id": "cWH1Elb9ZOzU",
        "outputId": "79183980-1992-420d-9bcd-54294be5b758"
      },
      "execution_count": null,
      "outputs": [
        {
          "output_type": "stream",
          "name": "stdout",
          "text": [
            "123abc.4567XYZ$89aabc123  def%GHIxyz.ABC#i.\n",
            "\n",
            "<re.Match object; span=(3, 4), match='a'>\n",
            "<re.Match object; span=(17, 18), match='a'>\n",
            "<re.Match object; span=(18, 19), match='a'>\n",
            "<re.Match object; span=(27, 28), match='e'>\n",
            "<re.Match object; span=(32, 33), match='I'>\n",
            "<re.Match object; span=(37, 38), match='A'>\n",
            "<re.Match object; span=(41, 42), match='i'>\n"
          ]
        }
      ]
    },
    {
      "cell_type": "code",
      "source": [
        "print(test_string,end=\"\\n\\n\")\n",
        "pattern = re.compile(r\"[aeiouAEIOU]\")\n",
        "matches = re.findall(pattern,test_string)\n",
        "matches"
      ],
      "metadata": {
        "colab": {
          "base_uri": "https://localhost:8080/"
        },
        "id": "gK5e-gMrZzHJ",
        "outputId": "8ad25c41-5284-4f97-e96a-4db240b6530c"
      },
      "execution_count": null,
      "outputs": [
        {
          "output_type": "stream",
          "name": "stdout",
          "text": [
            "123abc.4567XYZ$89aabc123  def%GHIxyz.ABC#i.\n",
            "\n"
          ]
        },
        {
          "output_type": "execute_result",
          "data": {
            "text/plain": [
              "['a', 'a', 'a', 'e', 'I', 'A', 'i']"
            ]
          },
          "metadata": {},
          "execution_count": 31
        }
      ]
    },
    {
      "cell_type": "code",
      "source": [
        "print(test_string,end = \"\\n\\n\")\n",
        "pattern = re.compile(r\"[0123456789]\")\n",
        "matches = re.finditer(pattern,test_string)\n",
        "for match in matches:\n",
        "  print(match)"
      ],
      "metadata": {
        "colab": {
          "base_uri": "https://localhost:8080/"
        },
        "id": "dQizqb49Zy6U",
        "outputId": "15efd1ef-1b70-4d96-8c07-4d17749783b4"
      },
      "execution_count": null,
      "outputs": [
        {
          "output_type": "stream",
          "name": "stdout",
          "text": [
            "123abc.4567XYZ$89aabc123  def%GHIxyz.ABC#i.\n",
            "\n",
            "<re.Match object; span=(0, 1), match='1'>\n",
            "<re.Match object; span=(1, 2), match='2'>\n",
            "<re.Match object; span=(2, 3), match='3'>\n",
            "<re.Match object; span=(7, 8), match='4'>\n",
            "<re.Match object; span=(8, 9), match='5'>\n",
            "<re.Match object; span=(9, 10), match='6'>\n",
            "<re.Match object; span=(10, 11), match='7'>\n",
            "<re.Match object; span=(15, 16), match='8'>\n",
            "<re.Match object; span=(16, 17), match='9'>\n",
            "<re.Match object; span=(21, 22), match='1'>\n",
            "<re.Match object; span=(22, 23), match='2'>\n",
            "<re.Match object; span=(23, 24), match='3'>\n"
          ]
        }
      ]
    },
    {
      "cell_type": "code",
      "source": [
        "print(test_string,end=\"\\n\\n\")\n",
        "pattern = re.compile(r\"[02468]\")\n",
        "matches = re.finditer(pattern,test_string)\n",
        "for match in matches:\n",
        "  print(match)"
      ],
      "metadata": {
        "colab": {
          "base_uri": "https://localhost:8080/"
        },
        "id": "dfg_iDDwcrZN",
        "outputId": "b6e301ed-2c97-401a-e347-3accee52a256"
      },
      "execution_count": null,
      "outputs": [
        {
          "output_type": "stream",
          "name": "stdout",
          "text": [
            "123abc.4567XYZ$89aabc123  def%GHIxyz.ABC#i.\n",
            "\n",
            "<re.Match object; span=(1, 2), match='2'>\n",
            "<re.Match object; span=(7, 8), match='4'>\n",
            "<re.Match object; span=(9, 10), match='6'>\n",
            "<re.Match object; span=(15, 16), match='8'>\n",
            "<re.Match object; span=(22, 23), match='2'>\n"
          ]
        }
      ]
    },
    {
      "cell_type": "code",
      "source": [
        "print(test_string, end=\"\\n\\n\")\n",
        "pattern = re.compile(r\"[0-9]\")\n",
        "matches = re.finditer(pattern,test_string)\n",
        "for match in matches:\n",
        "  print(match)"
      ],
      "metadata": {
        "colab": {
          "base_uri": "https://localhost:8080/"
        },
        "id": "HhHPqV5-dN-o",
        "outputId": "0ddf984a-4df7-4326-e0da-958b9ba3a108"
      },
      "execution_count": null,
      "outputs": [
        {
          "output_type": "stream",
          "name": "stdout",
          "text": [
            "123abc.4567XYZ$89aabc123  def%GHIxyz.ABC#i.\n",
            "\n",
            "<re.Match object; span=(0, 1), match='1'>\n",
            "<re.Match object; span=(1, 2), match='2'>\n",
            "<re.Match object; span=(2, 3), match='3'>\n",
            "<re.Match object; span=(7, 8), match='4'>\n",
            "<re.Match object; span=(8, 9), match='5'>\n",
            "<re.Match object; span=(9, 10), match='6'>\n",
            "<re.Match object; span=(10, 11), match='7'>\n",
            "<re.Match object; span=(15, 16), match='8'>\n",
            "<re.Match object; span=(16, 17), match='9'>\n",
            "<re.Match object; span=(21, 22), match='1'>\n",
            "<re.Match object; span=(22, 23), match='2'>\n",
            "<re.Match object; span=(23, 24), match='3'>\n"
          ]
        }
      ]
    },
    {
      "cell_type": "code",
      "source": [
        "print(test_string,end=\"\\n\\n\")\n",
        "pattern = re.compile(r\"[^a-zA-Z0-9. ]\")\n",
        "matches = re.finditer(pattern,test_string)\n",
        "\n",
        "for match in matches:\n",
        "  print(match)"
      ],
      "metadata": {
        "colab": {
          "base_uri": "https://localhost:8080/"
        },
        "id": "tpOpwI0TdNwd",
        "outputId": "66739003-a0dc-4f77-d1a0-28a35ecda85d"
      },
      "execution_count": null,
      "outputs": [
        {
          "output_type": "stream",
          "name": "stdout",
          "text": [
            "123abc.4567XYZ$89aabc123  def%GHIxyz.ABC#i.\n",
            "\n",
            "<re.Match object; span=(14, 15), match='$'>\n",
            "<re.Match object; span=(29, 30), match='%'>\n",
            "<re.Match object; span=(40, 41), match='#'>\n"
          ]
        }
      ]
    },
    {
      "cell_type": "markdown",
      "source": [
        "Pre-defined Characters"
      ],
      "metadata": {
        "id": "tgV2YuR-YSLa"
      }
    },
    {
      "cell_type": "code",
      "source": [
        "test_string_1= \"123abc.4567XYZ$89abc123 def%GHIxyz  .ABC#i.\"\n",
        "test_string_2=\"123abc.4567\\nXYZ$89abc123 def%GHI\\nxyz  .ABC#i.\"\n",
        "test_string_3=\"heyhello 123_heyho hohey\"\n",
        "\n",
        "print(test_string_1,end=\"\\n\\n\")\n",
        "pattern = re.compile(r\"[\\d]\")\n",
        "matches = re.finditer(pattern,test_string_1)\n",
        "for  match in matches:\n",
        "  print(match)"
      ],
      "metadata": {
        "colab": {
          "base_uri": "https://localhost:8080/"
        },
        "id": "vT5wktMyfQz-",
        "outputId": "38be9691-bf4b-430b-ca50-1f166de1888f"
      },
      "execution_count": null,
      "outputs": [
        {
          "output_type": "stream",
          "name": "stdout",
          "text": [
            "123abc.4567XYZ$89abc123 def%GHIxyz  .ABC#i.\n",
            "\n",
            "<re.Match object; span=(0, 1), match='1'>\n",
            "<re.Match object; span=(1, 2), match='2'>\n",
            "<re.Match object; span=(2, 3), match='3'>\n",
            "<re.Match object; span=(7, 8), match='4'>\n",
            "<re.Match object; span=(8, 9), match='5'>\n",
            "<re.Match object; span=(9, 10), match='6'>\n",
            "<re.Match object; span=(10, 11), match='7'>\n",
            "<re.Match object; span=(15, 16), match='8'>\n",
            "<re.Match object; span=(16, 17), match='9'>\n",
            "<re.Match object; span=(20, 21), match='1'>\n",
            "<re.Match object; span=(21, 22), match='2'>\n",
            "<re.Match object; span=(22, 23), match='3'>\n"
          ]
        }
      ]
    },
    {
      "cell_type": "code",
      "source": [
        "print(test_string_1, end=\"\\n\\n\")\n",
        "pattern = re.compile(r\"[\\D]\")\n",
        "matches = re.finditer(pattern,test_string_1)\n",
        "for match in matches:\n",
        "  print(match)"
      ],
      "metadata": {
        "colab": {
          "base_uri": "https://localhost:8080/"
        },
        "id": "SvqSAZYonnu5",
        "outputId": "2f91e4ce-ceeb-43d1-8e01-405898ba03f4"
      },
      "execution_count": null,
      "outputs": [
        {
          "output_type": "stream",
          "name": "stdout",
          "text": [
            "123abc.4567XYZ$89abc123 def%GHIxyz  .ABC#i.\n",
            "\n",
            "<re.Match object; span=(3, 4), match='a'>\n",
            "<re.Match object; span=(4, 5), match='b'>\n",
            "<re.Match object; span=(5, 6), match='c'>\n",
            "<re.Match object; span=(6, 7), match='.'>\n",
            "<re.Match object; span=(11, 12), match='X'>\n",
            "<re.Match object; span=(12, 13), match='Y'>\n",
            "<re.Match object; span=(13, 14), match='Z'>\n",
            "<re.Match object; span=(14, 15), match='$'>\n",
            "<re.Match object; span=(17, 18), match='a'>\n",
            "<re.Match object; span=(18, 19), match='b'>\n",
            "<re.Match object; span=(19, 20), match='c'>\n",
            "<re.Match object; span=(23, 24), match=' '>\n",
            "<re.Match object; span=(24, 25), match='d'>\n",
            "<re.Match object; span=(25, 26), match='e'>\n",
            "<re.Match object; span=(26, 27), match='f'>\n",
            "<re.Match object; span=(27, 28), match='%'>\n",
            "<re.Match object; span=(28, 29), match='G'>\n",
            "<re.Match object; span=(29, 30), match='H'>\n",
            "<re.Match object; span=(30, 31), match='I'>\n",
            "<re.Match object; span=(31, 32), match='x'>\n",
            "<re.Match object; span=(32, 33), match='y'>\n",
            "<re.Match object; span=(33, 34), match='z'>\n",
            "<re.Match object; span=(34, 35), match=' '>\n",
            "<re.Match object; span=(35, 36), match=' '>\n",
            "<re.Match object; span=(36, 37), match='.'>\n",
            "<re.Match object; span=(37, 38), match='A'>\n",
            "<re.Match object; span=(38, 39), match='B'>\n",
            "<re.Match object; span=(39, 40), match='C'>\n",
            "<re.Match object; span=(40, 41), match='#'>\n",
            "<re.Match object; span=(41, 42), match='i'>\n",
            "<re.Match object; span=(42, 43), match='.'>\n"
          ]
        }
      ]
    },
    {
      "cell_type": "code",
      "source": [
        "print(test_string_2, end=\"\\n\\n\")\n",
        "pattern = re.compile(r\"[\\s]\")\n",
        "matches = re.finditer(pattern, test_string_2)\n",
        "for match in matches:\n",
        "  print(match)"
      ],
      "metadata": {
        "colab": {
          "base_uri": "https://localhost:8080/"
        },
        "id": "3LoXSimAoY8w",
        "outputId": "e7eec6c5-52da-4be7-cae0-c2c9d1ef2d00"
      },
      "execution_count": null,
      "outputs": [
        {
          "output_type": "stream",
          "name": "stdout",
          "text": [
            "123abc.4567\n",
            "XYZ$89abc123 def%GHI\n",
            "xyz  .ABC#i.\n",
            "\n",
            "<re.Match object; span=(11, 12), match='\\n'>\n",
            "<re.Match object; span=(24, 25), match=' '>\n",
            "<re.Match object; span=(32, 33), match='\\n'>\n",
            "<re.Match object; span=(36, 37), match=' '>\n",
            "<re.Match object; span=(37, 38), match=' '>\n"
          ]
        }
      ]
    },
    {
      "cell_type": "code",
      "source": [
        "print(test_string_2, end=\"\\n\\n\")\n",
        "pattern = re.compile(r\"[\\S]\")\n",
        "matches = re.finditer(pattern, test_string_2)\n",
        "for match in matches:\n",
        "  print(match)"
      ],
      "metadata": {
        "colab": {
          "base_uri": "https://localhost:8080/"
        },
        "id": "c59INWq0oYYx",
        "outputId": "d4c0b4e3-555f-4cb1-fb96-7934c30ea8f9"
      },
      "execution_count": null,
      "outputs": [
        {
          "output_type": "stream",
          "name": "stdout",
          "text": [
            "123abc.4567\n",
            "XYZ$89abc123 def%GHI\n",
            "xyz  .ABC#i.\n",
            "\n",
            "<re.Match object; span=(0, 1), match='1'>\n",
            "<re.Match object; span=(1, 2), match='2'>\n",
            "<re.Match object; span=(2, 3), match='3'>\n",
            "<re.Match object; span=(3, 4), match='a'>\n",
            "<re.Match object; span=(4, 5), match='b'>\n",
            "<re.Match object; span=(5, 6), match='c'>\n",
            "<re.Match object; span=(6, 7), match='.'>\n",
            "<re.Match object; span=(7, 8), match='4'>\n",
            "<re.Match object; span=(8, 9), match='5'>\n",
            "<re.Match object; span=(9, 10), match='6'>\n",
            "<re.Match object; span=(10, 11), match='7'>\n",
            "<re.Match object; span=(12, 13), match='X'>\n",
            "<re.Match object; span=(13, 14), match='Y'>\n",
            "<re.Match object; span=(14, 15), match='Z'>\n",
            "<re.Match object; span=(15, 16), match='$'>\n",
            "<re.Match object; span=(16, 17), match='8'>\n",
            "<re.Match object; span=(17, 18), match='9'>\n",
            "<re.Match object; span=(18, 19), match='a'>\n",
            "<re.Match object; span=(19, 20), match='b'>\n",
            "<re.Match object; span=(20, 21), match='c'>\n",
            "<re.Match object; span=(21, 22), match='1'>\n",
            "<re.Match object; span=(22, 23), match='2'>\n",
            "<re.Match object; span=(23, 24), match='3'>\n",
            "<re.Match object; span=(25, 26), match='d'>\n",
            "<re.Match object; span=(26, 27), match='e'>\n",
            "<re.Match object; span=(27, 28), match='f'>\n",
            "<re.Match object; span=(28, 29), match='%'>\n",
            "<re.Match object; span=(29, 30), match='G'>\n",
            "<re.Match object; span=(30, 31), match='H'>\n",
            "<re.Match object; span=(31, 32), match='I'>\n",
            "<re.Match object; span=(33, 34), match='x'>\n",
            "<re.Match object; span=(34, 35), match='y'>\n",
            "<re.Match object; span=(35, 36), match='z'>\n",
            "<re.Match object; span=(38, 39), match='.'>\n",
            "<re.Match object; span=(39, 40), match='A'>\n",
            "<re.Match object; span=(40, 41), match='B'>\n",
            "<re.Match object; span=(41, 42), match='C'>\n",
            "<re.Match object; span=(42, 43), match='#'>\n",
            "<re.Match object; span=(43, 44), match='i'>\n",
            "<re.Match object; span=(44, 45), match='.'>\n"
          ]
        }
      ]
    },
    {
      "cell_type": "code",
      "source": [
        "print(test_string_2, end=\"\\n\\n\")\n",
        "pattern = re.compile(r\"[\\w]\")\n",
        "matches = re.finditer(pattern,test_string_2)\n",
        "for match in matches:\n",
        "  print(match)"
      ],
      "metadata": {
        "colab": {
          "base_uri": "https://localhost:8080/"
        },
        "id": "8oSoxIYkrXSQ",
        "outputId": "b7cc21f4-568d-45b9-a593-202249c5b68f"
      },
      "execution_count": null,
      "outputs": [
        {
          "output_type": "stream",
          "name": "stdout",
          "text": [
            "123abc.4567\n",
            "XYZ$89abc123 def%GHI\n",
            "xyz  .ABC#i.\n",
            "\n",
            "<re.Match object; span=(0, 1), match='1'>\n",
            "<re.Match object; span=(1, 2), match='2'>\n",
            "<re.Match object; span=(2, 3), match='3'>\n",
            "<re.Match object; span=(3, 4), match='a'>\n",
            "<re.Match object; span=(4, 5), match='b'>\n",
            "<re.Match object; span=(5, 6), match='c'>\n",
            "<re.Match object; span=(7, 8), match='4'>\n",
            "<re.Match object; span=(8, 9), match='5'>\n",
            "<re.Match object; span=(9, 10), match='6'>\n",
            "<re.Match object; span=(10, 11), match='7'>\n",
            "<re.Match object; span=(12, 13), match='X'>\n",
            "<re.Match object; span=(13, 14), match='Y'>\n",
            "<re.Match object; span=(14, 15), match='Z'>\n",
            "<re.Match object; span=(16, 17), match='8'>\n",
            "<re.Match object; span=(17, 18), match='9'>\n",
            "<re.Match object; span=(18, 19), match='a'>\n",
            "<re.Match object; span=(19, 20), match='b'>\n",
            "<re.Match object; span=(20, 21), match='c'>\n",
            "<re.Match object; span=(21, 22), match='1'>\n",
            "<re.Match object; span=(22, 23), match='2'>\n",
            "<re.Match object; span=(23, 24), match='3'>\n",
            "<re.Match object; span=(25, 26), match='d'>\n",
            "<re.Match object; span=(26, 27), match='e'>\n",
            "<re.Match object; span=(27, 28), match='f'>\n",
            "<re.Match object; span=(29, 30), match='G'>\n",
            "<re.Match object; span=(30, 31), match='H'>\n",
            "<re.Match object; span=(31, 32), match='I'>\n",
            "<re.Match object; span=(33, 34), match='x'>\n",
            "<re.Match object; span=(34, 35), match='y'>\n",
            "<re.Match object; span=(35, 36), match='z'>\n",
            "<re.Match object; span=(39, 40), match='A'>\n",
            "<re.Match object; span=(40, 41), match='B'>\n",
            "<re.Match object; span=(41, 42), match='C'>\n",
            "<re.Match object; span=(43, 44), match='i'>\n"
          ]
        }
      ]
    },
    {
      "cell_type": "code",
      "source": [
        "print(test_string_2, end=\"\\n\\n\")\n",
        "pattern = re.compile(r\"[\\W]\")\n",
        "matches = re.finditer(pattern,test_string_2)\n",
        "for match in matches:\n",
        "  print(match)"
      ],
      "metadata": {
        "colab": {
          "base_uri": "https://localhost:8080/"
        },
        "id": "GgotNVUDr9_r",
        "outputId": "a742f8c0-4441-49cf-8bfa-05ca0923dd7a"
      },
      "execution_count": null,
      "outputs": [
        {
          "output_type": "stream",
          "name": "stdout",
          "text": [
            "123abc.4567\n",
            "XYZ$89abc123 def%GHI\n",
            "xyz  .ABC#i.\n",
            "\n",
            "<re.Match object; span=(6, 7), match='.'>\n",
            "<re.Match object; span=(11, 12), match='\\n'>\n",
            "<re.Match object; span=(15, 16), match='$'>\n",
            "<re.Match object; span=(24, 25), match=' '>\n",
            "<re.Match object; span=(28, 29), match='%'>\n",
            "<re.Match object; span=(32, 33), match='\\n'>\n",
            "<re.Match object; span=(36, 37), match=' '>\n",
            "<re.Match object; span=(37, 38), match=' '>\n",
            "<re.Match object; span=(38, 39), match='.'>\n",
            "<re.Match object; span=(42, 43), match='#'>\n",
            "<re.Match object; span=(44, 45), match='.'>\n"
          ]
        }
      ]
    },
    {
      "cell_type": "code",
      "source": [
        "pattern = re.compile(r\"hey\")\n",
        "matches = re.finditer(pattern,test_string_3)\n",
        "for match in matches:\n",
        "  print(match)"
      ],
      "metadata": {
        "colab": {
          "base_uri": "https://localhost:8080/"
        },
        "id": "W7kRXXn5sXBA",
        "outputId": "5a8b4b30-4712-42fb-bee2-40919391acea"
      },
      "execution_count": null,
      "outputs": [
        {
          "output_type": "stream",
          "name": "stdout",
          "text": [
            "<re.Match object; span=(0, 3), match='hey'>\n",
            "<re.Match object; span=(13, 16), match='hey'>\n",
            "<re.Match object; span=(21, 24), match='hey'>\n"
          ]
        }
      ]
    },
    {
      "cell_type": "code",
      "source": [
        "pattern = re.compile(r\"\\bhey\\b\")\n",
        "\n",
        "matches = re.finditer(pattern, test_string_3)\n",
        "for match in matches:\n",
        "  print(match)"
      ],
      "metadata": {
        "id": "nJW9hqUHsxE6"
      },
      "execution_count": null,
      "outputs": []
    },
    {
      "cell_type": "code",
      "source": [],
      "metadata": {
        "id": "H_DY6LXGswF4"
      },
      "execution_count": null,
      "outputs": []
    }
  ],
  "metadata": {
    "colab": {
      "provenance": [],
      "authorship_tag": "ABX9TyMi6FBnPmnPmuffDCjHHXbT",
      "include_colab_link": true
    },
    "kernelspec": {
      "display_name": "Python 3",
      "name": "python3"
    },
    "language_info": {
      "name": "python"
    }
  },
  "nbformat": 4,
  "nbformat_minor": 0
}